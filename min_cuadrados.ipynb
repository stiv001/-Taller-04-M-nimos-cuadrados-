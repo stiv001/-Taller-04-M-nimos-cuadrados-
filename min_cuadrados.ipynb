{
 "cells": [
  {
   "cell_type": "markdown",
   "metadata": {},
   "source": [
    "# Taller 04\n",
    "Stiv Quishpe \n",
    "link \n",
    "https://github.com/stiv001/-Taller-04-M-nimos-cuadrados-.git\n",
    "## Ajuste de curvas por mínimos cuadrados\n"
   ]
  },
  {
   "cell_type": "code",
   "execution_count": 2,
   "metadata": {},
   "outputs": [
    {
     "data": {
      "application/vnd.jupyter.widget-view+json": {
       "model_id": "670cdc888ff341faa1595d5ca0285c00",
       "version_major": 2,
       "version_minor": 0
      },
      "text/plain": [
       "interactive(children=(FloatSlider(value=8.9, description='p2_x', max=12.3, min=5.5), FloatSlider(value=0.0, de…"
      ]
     },
     "metadata": {},
     "output_type": "display_data"
    }
   ],
   "source": [
    "from ipywidgets import interact\n",
    "import matplotlib.pyplot as plt\n",
    "\n",
    "p1 = (5.4, 3.2)\n",
    "p2_i = (9.5, 0.7)\n",
    "p3 = (12.3, -3.6)\n",
    "\n",
    "\n",
    "m = -1\n",
    "b = 8\n",
    "\n",
    "\n",
    "def update_plot(p2_x, p2_y):\n",
    "    x_coords = [p1[0], p2_x, p3[0]]\n",
    "    y_coords = [p1[1], p2_y, p3[1]]\n",
    "\n",
    "    plt.figure(figsize=(10, 6))\n",
    "    plt.scatter(x_coords, y_coords, color=\"red\")\n",
    "\n",
    "    x_line = [min(x_coords), max(x_coords)]\n",
    "    y_line = [m * x + b for x in x_line]\n",
    "    plt.plot(x_line, y_line, color=\"blue\")\n",
    "\n",
    "    plt.xlabel(\"X\")\n",
    "    plt.ylabel(\"Y\")\n",
    "    plt.title(\"Points and Line Plot\")\n",
    "    plt.show()\n",
    "\n",
    "\n",
    "\n",
    "\n",
    "\n",
    "_ = interact(update_plot, p2_x=(5.5, 12.3, 0.1), p2_y=(-10.0, 10.0, 0.1))"
   ]
  },
  {
   "cell_type": "code",
   "execution_count": 6,
   "metadata": {},
   "outputs": [
    {
     "data": {
      "application/vnd.jupyter.widget-view+json": {
       "model_id": "ac35e103338e45f984ec979ae282a60a",
       "version_major": 2,
       "version_minor": 0
      },
      "text/plain": [
       "interactive(children=(FloatSlider(value=8.9, description='p2_x', max=12.3, min=5.5), FloatSlider(value=0.0, de…"
      ]
     },
     "metadata": {},
     "output_type": "display_data"
    }
   ],
   "source": [
    "from ipywidgets import interact\n",
    "import matplotlib.pyplot as plt\n",
    "import numpy as np\n",
    "\n",
    "p1 = (5.4, 3.2)\n",
    "p2_i = (9.5, 0.7)\n",
    "p3 = (12.3, -3.6)\n",
    "\n",
    "def update_plot(p2_x, p2_y):\n",
    "    x_coords = [p1[0], p2_x, p3[0]]\n",
    "    y_coords = [p1[1], p2_y, p3[1]]\n",
    "\n",
    "    m, b = np.polyfit(x_coords, y_coords, 1)\n",
    "\n",
    "    plt.figure(figsize=(10, 6))\n",
    "    plt.scatter(x_coords, y_coords, color=\"red\")\n",
    "\n",
    "    x_line = [min(x_coords), max(x_coords)]\n",
    "    y_line = [m * x + b for x in x_line]\n",
    "    plt.plot(x_line, y_line, color=\"blue\")\n",
    "\n",
    "    plt.xlabel(\"X\")\n",
    "    plt.ylabel(\"Y\")\n",
    "    plt.title(\"Points and Line Plot\")\n",
    "    plt.show()\n",
    "\n",
    "_ = interact(update_plot, p2_x=(5.5, 12.3, 0.1), p2_y=(-10.0, 10.0, 0.1))"
   ]
  }
 ],
 "metadata": {
  "kernelspec": {
   "display_name": "base",
   "language": "python",
   "name": "python3"
  },
  "language_info": {
   "codemirror_mode": {
    "name": "ipython",
    "version": 3
   },
   "file_extension": ".py",
   "mimetype": "text/x-python",
   "name": "python",
   "nbconvert_exporter": "python",
   "pygments_lexer": "ipython3",
   "version": "3.12.3"
  }
 },
 "nbformat": 4,
 "nbformat_minor": 2
}
